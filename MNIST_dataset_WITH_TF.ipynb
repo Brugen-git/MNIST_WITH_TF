{
 "cells": [
  {
   "cell_type": "markdown",
   "metadata": {},
   "source": [
    "# Hand written digit recognition with TensorFlow\n",
    "\n",
    "Starting with importing the required libraries\n"
   ]
  },
  {
   "cell_type": "code",
   "execution_count": 1,
   "metadata": {},
   "outputs": [
    {
     "name": "stdout",
     "output_type": "stream",
     "text": [
      "2.2.0\n"
     ]
    }
   ],
   "source": [
    "#importing libraries\n",
    "import tensorflow as tf\n",
    "from tensorflow import keras\n",
    "from tensorflow.keras.utils import to_categorical\n",
    "import numpy as np\n",
    "import matplotlib.pyplot as plt\n",
    "print(tf.__version__)\n"
   ]
  },
  {
   "cell_type": "markdown",
   "metadata": {},
   "source": [
    "Loading MNIST DATASET (Modified National Institute of Standards and Technology database). \n",
    "\n",
    "Overview: MNIST set is a large collection of handwritten digits. It is a very popular dataset in the field of image processing. It is often used for benchmarking machine learning algorithms. MNIST is short for Modified National Institute of Standards and Technology database. MNIST contains a collection of 70,000, 28 x 28 images of handwritten digits from 0 to 9. The dataset is already divided into training and testing sets."
   ]
  },
  {
   "cell_type": "code",
   "execution_count": 2,
   "metadata": {},
   "outputs": [
    {
     "name": "stdout",
     "output_type": "stream",
     "text": [
      "Downloading data from https://storage.googleapis.com/tensorflow/tf-keras-datasets/mnist.npz\n",
      "11493376/11490434 [==============================] - 0s 0us/step\n"
     ]
    }
   ],
   "source": [
    "# Load MNIST training and test datasets.\n",
    "mnist = keras.datasets.mnist\n",
    "(train_images, train_labels), (test_images, test_labels) = mnist.load_data()\n",
    "\n",
    "# Standardize the data.\n",
    "mean = np.mean(train_images)\n",
    "stddev = np.std(train_images)\n",
    "train_images = (train_images - mean) / stddev \n",
    "test_images = (test_images - mean) / stddev \n",
    "\n",
    "# One-hot encode labels.\n",
    "one_hot_train_labels = to_categorical(train_labels, num_classes=10)\n",
    "one_hot_test_labels = to_categorical(test_labels, num_classes=10)\n"
   ]
  },
  {
   "cell_type": "markdown",
   "metadata": {},
   "source": [
    "The abstraction level is to use layers as building blocks. We use tanh and logistic sigmoid as activation functions in this notebook."
   ]
  },
  {
   "cell_type": "code",
   "execution_count": 3,
   "metadata": {},
   "outputs": [],
   "source": [
    "# Two Dense (fully-connected) layers with 25 and 10 neurons.\n",
    "# The Flatten() layer is not a \"real\" layer but is only used to reshape the input from 2 dimensions to 1 dimension.\n",
    "# tanh as activation function for hidden layer. Reference : https://www.researchgate.net/figure/Tanh-function-Source_fig3_350103066\n",
    "# Logistic (sigmoid) as activation function for output layer. Reference : https://www.researchgate.net/figure/Sigmoid-function-Sigmoid-Function-is-the-most-common-form-of-activation-function-used-in_fig3_260796259\n",
    "\n",
    "model = keras.Sequential([\n",
    "    keras.layers.Flatten(input_shape=(28, 28)),\n",
    "    keras.layers.Dense(25, activation='tanh'),\n",
    "    keras.layers.Dense(10, activation='sigmoid')])\n"
   ]
  },
  {
   "cell_type": "markdown",
   "metadata": {},
   "source": [
    "The network is ready to get trained. \n",
    "We use Stochastic Gradient Descent (SGD). Reference : https://www.researchgate.net/publication/358769475_Stochastic_Gradient_Descent_Algorithm_SGD\n",
    "Loss Function Used (MSE). Reference : https://www.researchgate.net/figure/Evolution-of-the-MSE-Mean-Squared-Error-as-a-function-of-the-size-of-the-training-set_fig4_328439451\n",
    " "
   ]
  },
  {
   "cell_type": "code",
   "execution_count": 4,
   "metadata": {},
   "outputs": [
    {
     "name": "stdout",
     "output_type": "stream",
     "text": [
      "Epoch 1/10\n",
      "938/938 - 2s - loss: 0.0637 - accuracy: 0.6307 - val_loss: 0.0456 - val_accuracy: 0.7740\n",
      "Epoch 2/10\n",
      "938/938 - 2s - loss: 0.0395 - accuracy: 0.8235 - val_loss: 0.0338 - val_accuracy: 0.8674\n",
      "Epoch 3/10\n",
      "938/938 - 2s - loss: 0.0310 - accuracy: 0.8693 - val_loss: 0.0276 - val_accuracy: 0.8873\n",
      "Epoch 4/10\n",
      "938/938 - 2s - loss: 0.0262 - accuracy: 0.8843 - val_loss: 0.0240 - val_accuracy: 0.8966\n",
      "Epoch 5/10\n",
      "938/938 - 2s - loss: 0.0232 - accuracy: 0.8941 - val_loss: 0.0216 - val_accuracy: 0.9033\n",
      "Epoch 6/10\n",
      "938/938 - 2s - loss: 0.0212 - accuracy: 0.9002 - val_loss: 0.0199 - val_accuracy: 0.9089\n",
      "Epoch 7/10\n",
      "938/938 - 2s - loss: 0.0197 - accuracy: 0.9051 - val_loss: 0.0186 - val_accuracy: 0.9119\n",
      "Epoch 8/10\n",
      "938/938 - 2s - loss: 0.0186 - accuracy: 0.9090 - val_loss: 0.0177 - val_accuracy: 0.9144\n",
      "Epoch 9/10\n",
      "938/938 - 2s - loss: 0.0177 - accuracy: 0.9122 - val_loss: 0.0169 - val_accuracy: 0.9168\n",
      "Epoch 10/10\n",
      "938/938 - 2s - loss: 0.0169 - accuracy: 0.9145 - val_loss: 0.0163 - val_accuracy: 0.9182\n"
     ]
    }
   ],
   "source": [
    "# MSE as loss function and report accuracy during training.\n",
    "opt = keras.optimizers.SGD(lr=0.1)\n",
    "model.compile(optimizer = opt, loss='mean_squared_error', metrics =['accuracy'])\n",
    "\n",
    "# Training the model for 10 epochs.\n",
    "# Shuffle/Randomize the order.\n",
    "# Usig 64 training examples for each weight update.\n",
    "history = model.fit(train_images, one_hot_train_labels, \n",
    "                    validation_data=(test_images, one_hot_test_labels), \n",
    "                    epochs=10, batch_size=64, verbose=2, shuffle=True)\n"
   ]
  },
  {
   "cell_type": "markdown",
   "metadata": {},
   "source": [
    "Our model is now trained\n",
    "Now we will use our trained model to predict one of the test digits."
   ]
  },
  {
   "cell_type": "code",
   "execution_count": 5,
   "metadata": {},
   "outputs": [
    {
     "data": {
      "image/png": "[encoded data removed]",
      "text/plain": [
       "<Figure size 432x288 with 1 Axes>"
      ]
     },
     "metadata": {
      "needs_background": "light"
     },
     "output_type": "display_data"
    },
    {
     "name": "stdout",
     "output_type": "stream",
     "text": [
      "Ground truth: 7\n",
      "Prediction: 7\n"
     ]
    }
   ],
   "source": [
    "# Print a digit and label, and predict it.\n",
    "\n",
    "# If you pick example 8, then chances are that the model fails to predict it correctly.\n",
    "\n",
    "TEST_NUM = 0\n",
    "\n",
    "plt.imshow(test_images[TEST_NUM], cmap=plt.get_cmap('gray'))\n",
    "plt.show()\n",
    "print('Ground truth:', test_labels[TEST_NUM])\n",
    "prediction = model.predict(test_images[TEST_NUM:(TEST_NUM + 1)]) # We pick a range to make sure that it is still an array.\n",
    "print('Prediction:', prediction[0].argmax()) # argmax() returns the index of the maximum value\n"
   ]
  },
  {
   "cell_type": "code",
   "execution_count": 6,
   "metadata": {},
   "outputs": [],
   "source": []
  },
  {
   "cell_type": "code",
   "execution_count": null,
   "metadata": {},
   "outputs": [],
   "source": []
  }
 ],
 "metadata": {
  "kernelspec": {
   "display_name": "Python 3",
   "language": "python",
   "name": "python3"
  },
  "language_info": {
   "codemirror_mode": {
    "name": "ipython",
    "version": 3
   },
   "file_extension": ".py",
   "mimetype": "text/x-python",
   "name": "python",
   "nbconvert_exporter": "python",
   "pygments_lexer": "ipython3",
   "version": "3.6.9"
  }
 },
 "nbformat": 4,
 "nbformat_minor": 4
}
